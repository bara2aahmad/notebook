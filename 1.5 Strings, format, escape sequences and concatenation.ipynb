{
 "cells": [
  {
   "cell_type": "code",
   "execution_count": 5,
   "metadata": {},
   "outputs": [
    {
     "name": "stdout",
     "output_type": "stream",
     "text": [
      "Dr.John\n"
     ]
    }
   ],
   "source": [
    "# Concatenate in a variable\n",
    "test = \"Dr. \" + \"John\"\n",
    "print(test)"
   ]
  },
  {
   "cell_type": "code",
   "execution_count": 1,
   "metadata": {},
   "outputs": [
    {
     "name": "stdout",
     "output_type": "stream",
     "text": [
      "Welcome, Ahmad\n"
     ]
    }
   ],
   "source": [
    "# Concatenate String using + in print\n",
    "name = \"Ahmad\"\n",
    "greeting = \"Welcome, \"\n",
    "\n",
    "print(greeting + name)"
   ]
  },
  {
   "cell_type": "code",
   "execution_count": 3,
   "metadata": {},
   "outputs": [
    {
     "name": "stdout",
     "output_type": "stream",
     "text": [
      "Welcome, Ahmad\n"
     ]
    }
   ],
   "source": [
    "# Concatenate String using + in a new variable\n",
    "full = greeting + name\n",
    "print(full)"
   ]
  },
  {
   "cell_type": "code",
   "execution_count": 4,
   "metadata": {},
   "outputs": [
    {
     "name": "stdout",
     "output_type": "stream",
     "text": [
      "Welcome Mr./Mrs Malak to Laila's market\n"
     ]
    }
   ],
   "source": [
    "#formatting \n",
    "greet = \"Welcome\"\n",
    "customer = \"Malak\"\n",
    "shop_name = \"Laila's\"\n",
    "\n",
    "print(f\"{greet} Mr./Mrs {customer} to {shop_name} market\")"
   ]
  },
  {
   "cell_type": "code",
   "execution_count": 6,
   "metadata": {},
   "outputs": [
    {
     "name": "stdout",
     "output_type": "stream",
     "text": [
      "{greet} Mr./Mrs {customer} to {shop_name} market\n"
     ]
    }
   ],
   "source": [
    "#formatting (this will print without the variables)\n",
    "greet = \"Welcome\"\n",
    "customer = \"Malak\"\n",
    "shop_name = \"Laila's\"\n",
    "\n",
    "print(\"{greet} Mr./Mrs {customer} to {shop_name} market\")"
   ]
  },
  {
   "cell_type": "code",
   "execution_count": 7,
   "metadata": {},
   "outputs": [
    {
     "name": "stdout",
     "output_type": "stream",
     "text": [
      "Welcome Mr./Mrs Malak to Laila's market\n"
     ]
    }
   ],
   "source": [
    "#formatting in variable\n",
    "\n",
    "greet = \"Welcome\"\n",
    "customer = \"Malak\"\n",
    "shop_name = \"Laila's\"\n",
    "\n",
    "printer = f\"{greet} Mr./Mrs {customer} to {shop_name} market\"\n",
    "\n",
    "print(printer)"
   ]
  },
  {
   "cell_type": "code",
   "execution_count": 10,
   "metadata": {},
   "outputs": [
    {
     "name": "stdout",
     "output_type": "stream",
     "text": [
      "Hi Guys, welcome to this class\n"
     ]
    }
   ],
   "source": [
    "#Concatenate inside the print function\n",
    "\n",
    "print(\"Hi\",\"Guys,\",\"welcome to this class\")"
   ]
  },
  {
   "cell_type": "code",
   "execution_count": 15,
   "metadata": {},
   "outputs": [
    {
     "name": "stdout",
     "output_type": "stream",
     "text": [
      "I want to learn Programming "
     ]
    }
   ],
   "source": [
    "# using end = \" \"\n",
    "\n",
    "print(\"I\", end = \" \")\n",
    "print(\"want to\", end = \" \")\n",
    "print(\"learn Programming\", end = \" \")"
   ]
  },
  {
   "cell_type": "code",
   "execution_count": 17,
   "metadata": {},
   "outputs": [
    {
     "name": "stdout",
     "output_type": "stream",
     "text": [
      "I'm Ahmad\n",
      "He said to me: \"Go!\"\n"
     ]
    }
   ],
   "source": [
    "#Single and Double quotes\n",
    "\n",
    "print(\"I'm Ahmad\")            #use Double quotes when you want to add single quotes to the string\n",
    "print('He said to me: \"Go!\"') #use single quotes when you want to add double quotes inside the string or"
   ]
  },
  {
   "cell_type": "code",
   "execution_count": 20,
   "metadata": {},
   "outputs": [
    {
     "name": "stdout",
     "output_type": "stream",
     "text": [
      "You told me: \"Sit Down\" \n",
      "I'm Here\n"
     ]
    }
   ],
   "source": [
    "#escaping double quotes in a double quoted string\n",
    "\n",
    "print(\"You told me: \\\"Sit Down\\\" \")\n",
    "print('I\\'m Here')"
   ]
  },
  {
   "cell_type": "code",
   "execution_count": null,
   "metadata": {},
   "outputs": [],
   "source": []
  }
 ],
 "metadata": {
  "kernelspec": {
   "display_name": "Python 3",
   "language": "python",
   "name": "python3"
  },
  "language_info": {
   "codemirror_mode": {
    "name": "ipython",
    "version": 3
   },
   "file_extension": ".py",
   "mimetype": "text/x-python",
   "name": "python",
   "nbconvert_exporter": "python",
   "pygments_lexer": "ipython3",
   "version": "3.6.5"
  }
 },
 "nbformat": 4,
 "nbformat_minor": 2
}
