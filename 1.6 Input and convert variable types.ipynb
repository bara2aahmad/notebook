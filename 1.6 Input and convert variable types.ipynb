{
 "cells": [
  {
   "cell_type": "code",
   "execution_count": null,
   "metadata": {},
   "outputs": [],
   "source": [
    "#error of data types\n",
    "\n",
    "x = 1 #integer\n",
    "y = \"Hi\" #string \n",
    "\n",
    "print(x + y)"
   ]
  },
  {
   "cell_type": "code",
   "execution_count": null,
   "metadata": {},
   "outputs": [],
   "source": [
    "x = 1 #integer\n",
    "y = \"Hi\" #string \n",
    "\n",
    "print(str(x) + y)"
   ]
  },
  {
   "cell_type": "code",
   "execution_count": null,
   "metadata": {},
   "outputs": [],
   "source": [
    "#Both are integers\n",
    "A = 1\n",
    "B = 1\n",
    "print(1+1)"
   ]
  },
  {
   "cell_type": "code",
   "execution_count": null,
   "metadata": {},
   "outputs": [],
   "source": [
    "#Both are strings\n",
    "\n",
    "C = \"1\"\n",
    "D = \"1\"\n",
    "\n",
    "print(C+D)"
   ]
  },
  {
   "cell_type": "code",
   "execution_count": null,
   "metadata": {},
   "outputs": [],
   "source": [
    "#Converting to integer\n",
    "\n",
    "E = \"1\"\n",
    "F = \"1\"\n",
    "\n",
    "print(int(E) + int(F))"
   ]
  },
  {
   "cell_type": "code",
   "execution_count": null,
   "metadata": {},
   "outputs": [],
   "source": [
    "#to string\n",
    "\n",
    "G = 1\n",
    "H = 1\n",
    "\n",
    "print(str(G) + str(H))"
   ]
  },
  {
   "cell_type": "code",
   "execution_count": null,
   "metadata": {},
   "outputs": [],
   "source": [
    "#float function\n",
    "\n",
    "I = \"3.14\"\n",
    "J = 3\n",
    "\n",
    "print(float(I) * J)"
   ]
  },
  {
   "cell_type": "code",
   "execution_count": null,
   "metadata": {},
   "outputs": [],
   "source": [
    "#input from user\n",
    "user_input = input(\"What's your name?\")\n",
    "\n",
    "print(f\"Hello, {user_input}\")"
   ]
  },
  {
   "cell_type": "code",
   "execution_count": null,
   "metadata": {},
   "outputs": [],
   "source": [
    "#input numbers\n",
    "\n",
    "number1 = input(\"First Number: \")\n",
    "number2 = input(\"Second Number: \")\n",
    "\n",
    "print(int(number1) + int(number2))"
   ]
  },
  {
   "cell_type": "code",
   "execution_count": 1,
   "metadata": {},
   "outputs": [
    {
     "name": "stdout",
     "output_type": "stream",
     "text": [
      "First Number: 1\n",
      "Second Number: 1\n",
      "11\n"
     ]
    }
   ],
   "source": [
    "#forgetting to convert\n",
    "\n",
    "num_3 = input(\"First Number: \")\n",
    "num_4 = input(\"Second Number: \")\n",
    "\n",
    "print(num_3 + num_4)"
   ]
  },
  {
   "cell_type": "code",
   "execution_count": 2,
   "metadata": {},
   "outputs": [
    {
     "name": "stdout",
     "output_type": "stream",
     "text": [
      "First Number: 4\n",
      "Second Number: 4\n",
      "16\n"
     ]
    }
   ],
   "source": [
    "#Convert before printing\n",
    "\n",
    "num_5 = int(input(\"First Number: \"))\n",
    "num_6 = int(input(\"Second Number: \"))\n",
    "\n",
    "print(num_5 * num_6)"
   ]
  }
 ],
 "metadata": {
  "kernelspec": {
   "display_name": "Python 3",
   "language": "python",
   "name": "python3"
  },
  "language_info": {
   "codemirror_mode": {
    "name": "ipython",
    "version": 3
   },
   "file_extension": ".py",
   "mimetype": "text/x-python",
   "name": "python",
   "nbconvert_exporter": "python",
   "pygments_lexer": "ipython3",
   "version": "3.6.5"
  }
 },
 "nbformat": 4,
 "nbformat_minor": 2
}
