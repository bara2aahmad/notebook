{
 "cells": [
  {
   "cell_type": "code",
   "execution_count": 8,
   "metadata": {},
   "outputs": [
    {
     "name": "stdout",
     "output_type": "stream",
     "text": [
      "five is bigger or equals 5\n"
     ]
    }
   ],
   "source": [
    "#simple condition\n",
    "# watch the : and the space before the commands\n",
    "\n",
    "if 5 >= 5:\n",
    "    print(\"five is bigger or equals 5\")"
   ]
  },
  {
   "cell_type": "code",
   "execution_count": 7,
   "metadata": {},
   "outputs": [],
   "source": [
    "#conditions --Nothing will print = condition not met\n",
    "\n",
    "x = 1\n",
    "\n",
    "if x != 1:\n",
    "    print(\"X doesn't equal to 1\")"
   ]
  },
  {
   "cell_type": "code",
   "execution_count": 5,
   "metadata": {},
   "outputs": [],
   "source": [
    "#mutliple conditions --Nothing will print = condition not met\n",
    "\n",
    "a = 3\n",
    "\n",
    "if a == 4 and a <5:\n",
    "    print(\"True\")"
   ]
  },
  {
   "cell_type": "code",
   "execution_count": 4,
   "metadata": {},
   "outputs": [
    {
     "name": "stdout",
     "output_type": "stream",
     "text": [
      "This is b: 4\n"
     ]
    }
   ],
   "source": [
    "# use of or -- it will print because the conditons met\n",
    "b = 4\n",
    "\n",
    "if b > 10 or b <6:\n",
    "    print(f\"This is b: {b}\")"
   ]
  },
  {
   "cell_type": "code",
   "execution_count": 9,
   "metadata": {},
   "outputs": [
    {
     "name": "stdout",
     "output_type": "stream",
     "text": [
      "Give me a number:6\n",
      "The number is bigger than 0 and is even\n"
     ]
    }
   ],
   "source": [
    "#Multiple Conditiosns\n",
    "q = float(input(\"Give me a number:\"))\n",
    "\n",
    "if q >= 0 and q%2 == 0:\n",
    "    print(\"The number is bigger than 0 and is even\")"
   ]
  },
  {
   "cell_type": "code",
   "execution_count": 10,
   "metadata": {},
   "outputs": [
    {
     "name": "stdout",
     "output_type": "stream",
     "text": [
      "Give me a number:3\n",
      "The Number is lesser that 0 or is not even\n"
     ]
    }
   ],
   "source": [
    "#else condition\n",
    "\n",
    "q = float(input(\"Give me a number:\"))\n",
    "\n",
    "if q >= 0 and q%2 == 0:\n",
    "    print(\"The number is bigger than 0 and is even\")\n",
    "else:\n",
    "    print(\"The Number is lesser that 0 or is not even\")"
   ]
  },
  {
   "cell_type": "code",
   "execution_count": 11,
   "metadata": {},
   "outputs": [
    {
     "name": "stdout",
     "output_type": "stream",
     "text": [
      "Give me a number:-50\n",
      "The number is lesser than 0\n"
     ]
    }
   ],
   "source": [
    "#elif condition\n",
    "\n",
    "q = float(input(\"Give me a number: \"))\n",
    "\n",
    "if q >= 0 and q%2 == 0:\n",
    "    print(\"The number is bigger than 0 and is even\")\n",
    "elif q < 0:\n",
    "    print(\"The number is lesser than 0\")\n",
    "else:\n",
    "    print(\"The Number is lesser that 0 or is not even\")"
   ]
  },
  {
   "cell_type": "code",
   "execution_count": 12,
   "metadata": {},
   "outputs": [
    {
     "name": "stdout",
     "output_type": "stream",
     "text": [
      "Give a number and I will guess things: 60\n",
      "Your number is bigger or equals zero\n",
      "You Number is even\n"
     ]
    }
   ],
   "source": [
    "#Multi level conditions\n",
    "\n",
    "e = float(input(\"Give a number and I will guess things: \"))\n",
    "\n",
    "if e < -50: \n",
    "    print(\"Your Number is lesser than -50\")\n",
    "elif e >= -50 and e < 0:\n",
    "    print(\"Your number is between -51 and 0\")\n",
    "elif e >= 0:\n",
    "    print(\"Your number is bigger or equals zero\")\n",
    "\n",
    "if e % 2 == 0:\n",
    "    print(\"You Number is even\")\n",
    "else:\n",
    "    print(\"Your Number is odd\")"
   ]
  }
 ],
 "metadata": {
  "kernelspec": {
   "display_name": "Python 3",
   "language": "python",
   "name": "python3"
  },
  "language_info": {
   "codemirror_mode": {
    "name": "ipython",
    "version": 3
   },
   "file_extension": ".py",
   "mimetype": "text/x-python",
   "name": "python",
   "nbconvert_exporter": "python",
   "pygments_lexer": "ipython3",
   "version": "3.6.5"
  }
 },
 "nbformat": 4,
 "nbformat_minor": 2
}
