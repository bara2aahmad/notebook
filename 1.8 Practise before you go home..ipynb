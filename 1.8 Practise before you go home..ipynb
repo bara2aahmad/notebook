{
 "cells": [
  {
   "cell_type": "code",
   "execution_count": 3,
   "metadata": {},
   "outputs": [
    {
     "name": "stdout",
     "output_type": "stream",
     "text": [
      "Give me the value of x: 200\n",
      "6000000.0\n"
     ]
    }
   ],
   "source": [
    "x = float(input(\"Give me the value of x: \"))\n",
    "\n",
    "if x < 0:\n",
    "    result = x*-1\n",
    "elif 0 <= x and x < 100:\n",
    "    result = x ** 2 + 3 * x - 5\n",
    "else:\n",
    "    result = 3/4 * x ** 3\n",
    "\n",
    "print(result)"
   ]
  }
 ],
 "metadata": {
  "kernelspec": {
   "display_name": "Python 3",
   "language": "python",
   "name": "python3"
  },
  "language_info": {
   "codemirror_mode": {
    "name": "ipython",
    "version": 3
   },
   "file_extension": ".py",
   "mimetype": "text/x-python",
   "name": "python",
   "nbconvert_exporter": "python",
   "pygments_lexer": "ipython3",
   "version": "3.6.5"
  }
 },
 "nbformat": 4,
 "nbformat_minor": 2
}
